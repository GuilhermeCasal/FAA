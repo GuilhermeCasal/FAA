{
 "cells": [
  {
   "cell_type": "code",
   "execution_count": 1,
   "metadata": {},
   "outputs": [],
   "source": [
    "from sklearn.linear_model import LogisticRegression\n",
    "from sklearn.metrics import accuracy_score,confusion_matrix\n",
    "import numpy as np\n",
    "import pandas as pd\n",
    "import matplotlib.pyplot as plt\n",
    "from scipy.stats import spearmanr\n",
    "from sklearn.preprocessing import MinMaxScaler\n",
    "from sklearn.model_selection import train_test_split, GridSearchCV, learning_curve\n",
    "from sklearn.metrics import log_loss\n"
   ]
  },
  {
   "cell_type": "markdown",
   "metadata": {},
   "source": [
    "### Import Dataset"
   ]
  },
  {
   "cell_type": "code",
   "execution_count": 2,
   "metadata": {},
   "outputs": [],
   "source": [
    "data = pd.read_csv(\"breast+cancer+wisconsin+diagnostic/wdbc.data\", header=None)\n",
    "data2 = data.iloc[:,2:32]"
   ]
  },
  {
   "cell_type": "markdown",
   "metadata": {},
   "source": [
    "### Normalize Data"
   ]
  },
  {
   "cell_type": "code",
   "execution_count": 3,
   "metadata": {},
   "outputs": [],
   "source": [
    "scaler = MinMaxScaler()\n",
    "normalizeDT = scaler.fit_transform(data2)\n",
    "normalizeDF = pd.DataFrame(normalizeDT, columns=data2.columns)\n",
    "normalizeDF['Target'] = data.iloc[:, 1]"
   ]
  },
  {
   "cell_type": "markdown",
   "metadata": {},
   "source": [
    "###  Using Spearmanr Algorithm for analyse correlations data and select more important features"
   ]
  },
  {
   "cell_type": "code",
   "execution_count": 4,
   "metadata": {},
   "outputs": [
    {
     "name": "stdout",
     "output_type": "stream",
     "text": [
      "Index([24, 22, 25, 29, 9, 4, 5, 8, 2, 15], dtype='object')\n"
     ]
    },
    {
     "data": {
      "text/html": [
       "<div>\n",
       "<style scoped>\n",
       "    .dataframe tbody tr th:only-of-type {\n",
       "        vertical-align: middle;\n",
       "    }\n",
       "\n",
       "    .dataframe tbody tr th {\n",
       "        vertical-align: top;\n",
       "    }\n",
       "\n",
       "    .dataframe thead th {\n",
       "        text-align: right;\n",
       "    }\n",
       "</style>\n",
       "<table border=\"1\" class=\"dataframe\">\n",
       "  <thead>\n",
       "    <tr style=\"text-align: right;\">\n",
       "      <th></th>\n",
       "      <th>24</th>\n",
       "      <th>22</th>\n",
       "      <th>25</th>\n",
       "      <th>29</th>\n",
       "      <th>9</th>\n",
       "      <th>4</th>\n",
       "      <th>5</th>\n",
       "      <th>8</th>\n",
       "      <th>2</th>\n",
       "      <th>15</th>\n",
       "      <th>Target</th>\n",
       "    </tr>\n",
       "  </thead>\n",
       "  <tbody>\n",
       "    <tr>\n",
       "      <th>0</th>\n",
       "      <td>0.668310</td>\n",
       "      <td>0.620776</td>\n",
       "      <td>0.450698</td>\n",
       "      <td>0.912027</td>\n",
       "      <td>0.731113</td>\n",
       "      <td>0.545989</td>\n",
       "      <td>0.363733</td>\n",
       "      <td>0.703140</td>\n",
       "      <td>0.521037</td>\n",
       "      <td>0.273811</td>\n",
       "      <td>M</td>\n",
       "    </tr>\n",
       "    <tr>\n",
       "      <th>1</th>\n",
       "      <td>0.539818</td>\n",
       "      <td>0.606901</td>\n",
       "      <td>0.435214</td>\n",
       "      <td>0.639175</td>\n",
       "      <td>0.348757</td>\n",
       "      <td>0.615783</td>\n",
       "      <td>0.501591</td>\n",
       "      <td>0.203608</td>\n",
       "      <td>0.643144</td>\n",
       "      <td>0.125660</td>\n",
       "      <td>M</td>\n",
       "    </tr>\n",
       "    <tr>\n",
       "      <th>2</th>\n",
       "      <td>0.508442</td>\n",
       "      <td>0.556386</td>\n",
       "      <td>0.374508</td>\n",
       "      <td>0.835052</td>\n",
       "      <td>0.635686</td>\n",
       "      <td>0.595743</td>\n",
       "      <td>0.449417</td>\n",
       "      <td>0.462512</td>\n",
       "      <td>0.601496</td>\n",
       "      <td>0.162922</td>\n",
       "      <td>M</td>\n",
       "    </tr>\n",
       "    <tr>\n",
       "      <th>3</th>\n",
       "      <td>0.241347</td>\n",
       "      <td>0.248310</td>\n",
       "      <td>0.094008</td>\n",
       "      <td>0.884880</td>\n",
       "      <td>0.522863</td>\n",
       "      <td>0.233501</td>\n",
       "      <td>0.102906</td>\n",
       "      <td>0.565604</td>\n",
       "      <td>0.210090</td>\n",
       "      <td>0.038155</td>\n",
       "      <td>M</td>\n",
       "    </tr>\n",
       "    <tr>\n",
       "      <th>4</th>\n",
       "      <td>0.506948</td>\n",
       "      <td>0.519744</td>\n",
       "      <td>0.341575</td>\n",
       "      <td>0.558419</td>\n",
       "      <td>0.518390</td>\n",
       "      <td>0.630986</td>\n",
       "      <td>0.489290</td>\n",
       "      <td>0.463918</td>\n",
       "      <td>0.629893</td>\n",
       "      <td>0.163688</td>\n",
       "      <td>M</td>\n",
       "    </tr>\n",
       "    <tr>\n",
       "      <th>...</th>\n",
       "      <td>...</td>\n",
       "      <td>...</td>\n",
       "      <td>...</td>\n",
       "      <td>...</td>\n",
       "      <td>...</td>\n",
       "      <td>...</td>\n",
       "      <td>...</td>\n",
       "      <td>...</td>\n",
       "      <td>...</td>\n",
       "      <td>...</td>\n",
       "      <td>...</td>\n",
       "    </tr>\n",
       "    <tr>\n",
       "      <th>564</th>\n",
       "      <td>0.576174</td>\n",
       "      <td>0.623266</td>\n",
       "      <td>0.452664</td>\n",
       "      <td>0.761512</td>\n",
       "      <td>0.690358</td>\n",
       "      <td>0.678668</td>\n",
       "      <td>0.566490</td>\n",
       "      <td>0.571462</td>\n",
       "      <td>0.690000</td>\n",
       "      <td>0.283710</td>\n",
       "      <td>M</td>\n",
       "    </tr>\n",
       "    <tr>\n",
       "      <th>565</th>\n",
       "      <td>0.520892</td>\n",
       "      <td>0.560655</td>\n",
       "      <td>0.379915</td>\n",
       "      <td>0.559450</td>\n",
       "      <td>0.486630</td>\n",
       "      <td>0.604036</td>\n",
       "      <td>0.474019</td>\n",
       "      <td>0.337395</td>\n",
       "      <td>0.622320</td>\n",
       "      <td>0.172279</td>\n",
       "      <td>M</td>\n",
       "    </tr>\n",
       "    <tr>\n",
       "      <th>566</th>\n",
       "      <td>0.379949</td>\n",
       "      <td>0.393099</td>\n",
       "      <td>0.230731</td>\n",
       "      <td>0.487285</td>\n",
       "      <td>0.263519</td>\n",
       "      <td>0.445788</td>\n",
       "      <td>0.303118</td>\n",
       "      <td>0.216753</td>\n",
       "      <td>0.455251</td>\n",
       "      <td>0.077976</td>\n",
       "      <td>M</td>\n",
       "    </tr>\n",
       "    <tr>\n",
       "      <th>567</th>\n",
       "      <td>0.668310</td>\n",
       "      <td>0.633582</td>\n",
       "      <td>0.402035</td>\n",
       "      <td>0.910653</td>\n",
       "      <td>0.755467</td>\n",
       "      <td>0.665538</td>\n",
       "      <td>0.475716</td>\n",
       "      <td>0.823336</td>\n",
       "      <td>0.644564</td>\n",
       "      <td>0.148335</td>\n",
       "      <td>M</td>\n",
       "    </tr>\n",
       "    <tr>\n",
       "      <th>568</th>\n",
       "      <td>0.043578</td>\n",
       "      <td>0.054287</td>\n",
       "      <td>0.020497</td>\n",
       "      <td>0.000000</td>\n",
       "      <td>0.000000</td>\n",
       "      <td>0.028540</td>\n",
       "      <td>0.015907</td>\n",
       "      <td>0.000000</td>\n",
       "      <td>0.036869</td>\n",
       "      <td>0.023063</td>\n",
       "      <td>B</td>\n",
       "    </tr>\n",
       "  </tbody>\n",
       "</table>\n",
       "<p>569 rows × 11 columns</p>\n",
       "</div>"
      ],
      "text/plain": [
       "           24        22        25        29         9         4         5  \\\n",
       "0    0.668310  0.620776  0.450698  0.912027  0.731113  0.545989  0.363733   \n",
       "1    0.539818  0.606901  0.435214  0.639175  0.348757  0.615783  0.501591   \n",
       "2    0.508442  0.556386  0.374508  0.835052  0.635686  0.595743  0.449417   \n",
       "3    0.241347  0.248310  0.094008  0.884880  0.522863  0.233501  0.102906   \n",
       "4    0.506948  0.519744  0.341575  0.558419  0.518390  0.630986  0.489290   \n",
       "..        ...       ...       ...       ...       ...       ...       ...   \n",
       "564  0.576174  0.623266  0.452664  0.761512  0.690358  0.678668  0.566490   \n",
       "565  0.520892  0.560655  0.379915  0.559450  0.486630  0.604036  0.474019   \n",
       "566  0.379949  0.393099  0.230731  0.487285  0.263519  0.445788  0.303118   \n",
       "567  0.668310  0.633582  0.402035  0.910653  0.755467  0.665538  0.475716   \n",
       "568  0.043578  0.054287  0.020497  0.000000  0.000000  0.028540  0.015907   \n",
       "\n",
       "            8         2        15 Target  \n",
       "0    0.703140  0.521037  0.273811      M  \n",
       "1    0.203608  0.643144  0.125660      M  \n",
       "2    0.462512  0.601496  0.162922      M  \n",
       "3    0.565604  0.210090  0.038155      M  \n",
       "4    0.463918  0.629893  0.163688      M  \n",
       "..        ...       ...       ...    ...  \n",
       "564  0.571462  0.690000  0.283710      M  \n",
       "565  0.337395  0.622320  0.172279      M  \n",
       "566  0.216753  0.455251  0.077976      M  \n",
       "567  0.823336  0.644564  0.148335      M  \n",
       "568  0.000000  0.036869  0.023063      B  \n",
       "\n",
       "[569 rows x 11 columns]"
      ]
     },
     "metadata": {},
     "output_type": "display_data"
    }
   ],
   "source": [
    "y = normalizeDF.iloc[:, -1]\n",
    "correlations = normalizeDF.iloc[:, :30].apply(lambda x: spearmanr(x, y)[0])\n",
    "correlations = correlations.abs().sort_values(ascending=False)\n",
    "top_variables = correlations.head(10).index\n",
    "print(top_variables)\n",
    "top_variables = [24, 22, 25, 29, 9, 4, 5, 8, 2, 15]\n",
    "df = normalizeDF[top_variables]\n",
    "targetValue = normalizeDF.columns[-1]\n",
    "top_variables.append(targetValue)\n",
    "df = normalizeDF[top_variables]\n",
    "display(df)"
   ]
  },
  {
   "cell_type": "markdown",
   "metadata": {},
   "source": [
    "### Extracting the values "
   ]
  },
  {
   "cell_type": "code",
   "execution_count": 5,
   "metadata": {},
   "outputs": [
    {
     "data": {
      "text/plain": [
       "((569, 10), (569,))"
      ]
     },
     "execution_count": 5,
     "metadata": {},
     "output_type": "execute_result"
    }
   ],
   "source": [
    "data_n=df.values\n",
    "\n",
    "X = data_n[:,:10]\n",
    "#print(XTrain)\n",
    "y = data_n[:,-1]\n",
    "# print(y)\n",
    "\n",
    "y = (y==\"M\").astype(int)\n",
    "\n",
    "X.shape, y.shape\n",
    "\n"
   ]
  },
  {
   "cell_type": "markdown",
   "metadata": {},
   "source": [
    "### Divide data in Training, Test and Validation data"
   ]
  },
  {
   "cell_type": "code",
   "execution_count": 6,
   "metadata": {},
   "outputs": [],
   "source": [
    "X_train, X_test, y_train, y_test = train_test_split(X, y, test_size=0.2, random_state=0, shuffle=True)\n",
    "X_train, X_val, y_train, y_val = train_test_split(X_train, y_train, test_size=0.2, random_state=0, shuffle=True)"
   ]
  },
  {
   "cell_type": "markdown",
   "metadata": {},
   "source": [
    "### Ploting Data"
   ]
  },
  {
   "cell_type": "code",
   "execution_count": 7,
   "metadata": {},
   "outputs": [
    {
     "data": {
      "text/plain": [
       "<matplotlib.legend.Legend at 0x7fcc0d2ed8d0>"
      ]
     },
     "execution_count": 7,
     "metadata": {},
     "output_type": "execute_result"
    },
    {
     "data": {
      "image/png": "[encoded data removed]",
      "text/plain": [
       "<Figure size 640x480 with 1 Axes>"
      ]
     },
     "metadata": {},
     "output_type": "display_data"
    }
   ],
   "source": [
    "YTrain = y_train.reshape((X_train.shape[0],1))\n",
    "\n",
    "ben = (YTrain==0)\n",
    "mal = (YTrain==1)\n",
    "\n",
    "plt.scatter(X_train[mal[:,0],0], X_train[mal[:,0],1], c='r', marker=\"+\")\n",
    "plt.scatter(X_train[ben[:,0],0], X_train[ben[:,0],1], c='b', marker='.')\n",
    "\n",
    "plt.legend(['Maligne', 'Benigne'])"
   ]
  },
  {
   "cell_type": "markdown",
   "metadata": {},
   "source": [
    "### Create a dictionary for several C values to find the best C for our model"
   ]
  },
  {
   "cell_type": "code",
   "execution_count": 8,
   "metadata": {},
   "outputs": [
    {
     "name": "stdout",
     "output_type": "stream",
     "text": [
      "Fitting 4 folds for each of 12 candidates, totalling 48 fits\n",
      "[CV 1/4] END ...........................C=1e-05;, score=0.637 total time=   0.0s\n",
      "[CV 2/4] END ...........................C=1e-05;, score=0.648 total time=   0.0s\n",
      "[CV 3/4] END ...........................C=1e-05;, score=0.648 total time=   0.0s\n",
      "[CV 4/4] END ...........................C=1e-05;, score=0.648 total time=   0.0s\n",
      "[CV 1/4] END ..........................C=0.0001;, score=0.637 total time=   0.0s\n",
      "[CV 2/4] END ..........................C=0.0001;, score=0.648 total time=   0.0s\n",
      "[CV 3/4] END ..........................C=0.0001;, score=0.648 total time=   0.0s\n",
      "[CV 4/4] END ..........................C=0.0001;, score=0.648 total time=   0.0s\n",
      "[CV 1/4] END ...........................C=0.001;, score=0.637 total time=   0.0s\n",
      "[CV 2/4] END ...........................C=0.001;, score=0.648 total time=   0.0s\n",
      "[CV 3/4] END ...........................C=0.001;, score=0.648 total time=   0.0s\n",
      "[CV 4/4] END ...........................C=0.001;, score=0.648 total time=   0.0s\n",
      "[CV 1/4] END ............................C=0.01;, score=0.637 total time=   0.0s\n",
      "[CV 2/4] END ............................C=0.01;, score=0.648 total time=   0.0s\n",
      "[CV 3/4] END ............................C=0.01;, score=0.648 total time=   0.0s\n",
      "[CV 4/4] END ............................C=0.01;, score=0.648 total time=   0.0s\n",
      "[CV 1/4] END .............................C=0.1;, score=0.879 total time=   0.0s\n",
      "[CV 2/4] END .............................C=0.1;, score=0.868 total time=   0.0s\n",
      "[CV 3/4] END .............................C=0.1;, score=0.857 total time=   0.0s\n",
      "[CV 4/4] END .............................C=0.1;, score=0.901 total time=   0.0s\n",
      "[CV 1/4] END ...............................C=1;, score=0.934 total time=   0.0s\n",
      "[CV 2/4] END ...............................C=1;, score=0.934 total time=   0.0s\n",
      "[CV 3/4] END ...............................C=1;, score=0.923 total time=   0.0s\n",
      "[CV 4/4] END ...............................C=1;, score=0.956 total time=   0.0s\n",
      "[CV 1/4] END ...............................C=5;, score=0.967 total time=   0.0s\n",
      "[CV 2/4] END ...............................C=5;, score=0.945 total time=   0.0s\n",
      "[CV 3/4] END ...............................C=5;, score=0.934 total time=   0.0s\n",
      "[CV 4/4] END ...............................C=5;, score=0.945 total time=   0.0s\n",
      "[CV 1/4] END ..............................C=10;, score=0.978 total time=   0.0s\n",
      "[CV 2/4] END ..............................C=10;, score=0.945 total time=   0.0s\n",
      "[CV 3/4] END ..............................C=10;, score=0.945 total time=   0.0s\n",
      "[CV 4/4] END ..............................C=10;, score=0.912 total time=   0.0s\n",
      "[CV 1/4] END ..............................C=12;, score=0.989 total time=   0.0s\n",
      "[CV 2/4] END ..............................C=12;, score=0.945 total time=   0.0s\n",
      "[CV 3/4] END ..............................C=12;, score=0.945 total time=   0.0s\n",
      "[CV 4/4] END ..............................C=12;, score=0.912 total time=   0.0s\n",
      "[CV 1/4] END ..............................C=15;, score=0.989 total time=   0.0s\n",
      "[CV 2/4] END ..............................C=15;, score=0.956 total time=   0.0s\n",
      "[CV 3/4] END ..............................C=15;, score=0.945 total time=   0.0s\n",
      "[CV 4/4] END ..............................C=15;, score=0.912 total time=   0.0s\n",
      "[CV 1/4] END ..............................C=20;, score=0.978 total time=   0.0s\n",
      "[CV 2/4] END ..............................C=20;, score=0.956 total time=   0.0s\n",
      "[CV 3/4] END ..............................C=20;, score=0.945 total time=   0.0s\n",
      "[CV 4/4] END ..............................C=20;, score=0.912 total time=   0.0s\n",
      "[CV 1/4] END ..............................C=22;, score=0.978 total time=   0.0s\n",
      "[CV 2/4] END ..............................C=22;, score=0.956 total time=   0.0s\n",
      "[CV 3/4] END ..............................C=22;, score=0.945 total time=   0.0s\n",
      "[CV 4/4] END ..............................C=22;, score=0.912 total time=   0.0s\n"
     ]
    }
   ],
   "source": [
    "LogC = {\n",
    "    'C':[0.00001,0.0001,0.001,0.01,0.1,1,5,10,12,15,20,22]\n",
    "}\n",
    "\n",
    "\n",
    "model = LogisticRegression(solver='liblinear', penalty='l1', max_iter=1000)\n",
    "\n",
    "LogRegressionCV = GridSearchCV(estimator=model, param_grid=LogC, cv=4, scoring='accuracy', verbose=3)\n",
    "LogRegressionCV.fit(X_train, y_train)\n",
    "loss_values = []\n",
    "\n"
   ]
  },
  {
   "cell_type": "markdown",
   "metadata": {},
   "source": [
    "### Finded our best C value"
   ]
  },
  {
   "cell_type": "code",
   "execution_count": 9,
   "metadata": {},
   "outputs": [],
   "source": [
    "bestC = LogRegressionCV.best_params_['C']\n",
    "bestLambda = 1/bestC"
   ]
  },
  {
   "cell_type": "markdown",
   "metadata": {},
   "source": [
    "### Apply our model with parameters to regularization and best C "
   ]
  },
  {
   "cell_type": "code",
   "execution_count": 10,
   "metadata": {},
   "outputs": [
    {
     "data": {
      "text/html": [
       "<style>#sk-container-id-1 {color: black;}#sk-container-id-1 pre{padding: 0;}#sk-container-id-1 div.sk-toggleable {background-color: white;}#sk-container-id-1 label.sk-toggleable__label {cursor: pointer;display: block;width: 100%;margin-bottom: 0;padding: 0.3em;box-sizing: border-box;text-align: center;}#sk-container-id-1 label.sk-toggleable__label-arrow:before {content: \"▸\";float: left;margin-right: 0.25em;color: #696969;}#sk-container-id-1 label.sk-toggleable__label-arrow:hover:before {color: black;}#sk-container-id-1 div.sk-estimator:hover label.sk-toggleable__label-arrow:before {color: black;}#sk-container-id-1 div.sk-toggleable__content {max-height: 0;max-width: 0;overflow: hidden;text-align: left;background-color: #f0f8ff;}#sk-container-id-1 div.sk-toggleable__content pre {margin: 0.2em;color: black;border-radius: 0.25em;background-color: #f0f8ff;}#sk-container-id-1 input.sk-toggleable__control:checked~div.sk-toggleable__content {max-height: 200px;max-width: 100%;overflow: auto;}#sk-container-id-1 input.sk-toggleable__control:checked~label.sk-toggleable__label-arrow:before {content: \"▾\";}#sk-container-id-1 div.sk-estimator input.sk-toggleable__control:checked~label.sk-toggleable__label {background-color: #d4ebff;}#sk-container-id-1 div.sk-label input.sk-toggleable__control:checked~label.sk-toggleable__label {background-color: #d4ebff;}#sk-container-id-1 input.sk-hidden--visually {border: 0;clip: rect(1px 1px 1px 1px);clip: rect(1px, 1px, 1px, 1px);height: 1px;margin: -1px;overflow: hidden;padding: 0;position: absolute;width: 1px;}#sk-container-id-1 div.sk-estimator {font-family: monospace;background-color: #f0f8ff;border: 1px dotted black;border-radius: 0.25em;box-sizing: border-box;margin-bottom: 0.5em;}#sk-container-id-1 div.sk-estimator:hover {background-color: #d4ebff;}#sk-container-id-1 div.sk-parallel-item::after {content: \"\";width: 100%;border-bottom: 1px solid gray;flex-grow: 1;}#sk-container-id-1 div.sk-label:hover label.sk-toggleable__label {background-color: #d4ebff;}#sk-container-id-1 div.sk-serial::before {content: \"\";position: absolute;border-left: 1px solid gray;box-sizing: border-box;top: 0;bottom: 0;left: 50%;z-index: 0;}#sk-container-id-1 div.sk-serial {display: flex;flex-direction: column;align-items: center;background-color: white;padding-right: 0.2em;padding-left: 0.2em;position: relative;}#sk-container-id-1 div.sk-item {position: relative;z-index: 1;}#sk-container-id-1 div.sk-parallel {display: flex;align-items: stretch;justify-content: center;background-color: white;position: relative;}#sk-container-id-1 div.sk-item::before, #sk-container-id-1 div.sk-parallel-item::before {content: \"\";position: absolute;border-left: 1px solid gray;box-sizing: border-box;top: 0;bottom: 0;left: 50%;z-index: -1;}#sk-container-id-1 div.sk-parallel-item {display: flex;flex-direction: column;z-index: 1;position: relative;background-color: white;}#sk-container-id-1 div.sk-parallel-item:first-child::after {align-self: flex-end;width: 50%;}#sk-container-id-1 div.sk-parallel-item:last-child::after {align-self: flex-start;width: 50%;}#sk-container-id-1 div.sk-parallel-item:only-child::after {width: 0;}#sk-container-id-1 div.sk-dashed-wrapped {border: 1px dashed gray;margin: 0 0.4em 0.5em 0.4em;box-sizing: border-box;padding-bottom: 0.4em;background-color: white;}#sk-container-id-1 div.sk-label label {font-family: monospace;font-weight: bold;display: inline-block;line-height: 1.2em;}#sk-container-id-1 div.sk-label-container {text-align: center;}#sk-container-id-1 div.sk-container {/* jupyter's `normalize.less` sets `[hidden] { display: none; }` but bootstrap.min.css set `[hidden] { display: none !important; }` so we also need the `!important` here to be able to override the default hidden behavior on the sphinx rendered scikit-learn.org. See: https://github.com/scikit-learn/scikit-learn/issues/21755 */display: inline-block !important;position: relative;}#sk-container-id-1 div.sk-text-repr-fallback {display: none;}</style><div id=\"sk-container-id-1\" class=\"sk-top-container\"><div class=\"sk-text-repr-fallback\"><pre>LogisticRegression(C=15, max_iter=1000, penalty=&#x27;l1&#x27;, solver=&#x27;liblinear&#x27;)</pre><b>In a Jupyter environment, please rerun this cell to show the HTML representation or trust the notebook. <br />On GitHub, the HTML representation is unable to render, please try loading this page with nbviewer.org.</b></div><div class=\"sk-container\" hidden><div class=\"sk-item\"><div class=\"sk-estimator sk-toggleable\"><input class=\"sk-toggleable__control sk-hidden--visually\" id=\"sk-estimator-id-1\" type=\"checkbox\" checked><label for=\"sk-estimator-id-1\" class=\"sk-toggleable__label sk-toggleable__label-arrow\">LogisticRegression</label><div class=\"sk-toggleable__content\"><pre>LogisticRegression(C=15, max_iter=1000, penalty=&#x27;l1&#x27;, solver=&#x27;liblinear&#x27;)</pre></div></div></div></div></div>"
      ],
      "text/plain": [
       "LogisticRegression(C=15, max_iter=1000, penalty='l1', solver='liblinear')"
      ]
     },
     "execution_count": 10,
     "metadata": {},
     "output_type": "execute_result"
    }
   ],
   "source": [
    "modelTest = LogisticRegression(solver='liblinear', penalty='l1',C=bestC, max_iter=1000)\n",
    "modelTest.fit(X_train, y_train)\n"
   ]
  },
  {
   "cell_type": "markdown",
   "metadata": {},
   "source": [
    "### Calculate train, test and validation predictions "
   ]
  },
  {
   "cell_type": "code",
   "execution_count": 11,
   "metadata": {},
   "outputs": [],
   "source": [
    "#Train ACcuracy\n",
    "train_predictions = modelTest.predict(X_train)\n",
    "train_accuracy = accuracy_score(y_train, train_predictions)\n"
   ]
  },
  {
   "cell_type": "code",
   "execution_count": 12,
   "metadata": {},
   "outputs": [
    {
     "name": "stdout",
     "output_type": "stream",
     "text": [
      "0.978021978021978\n"
     ]
    }
   ],
   "source": [
    "validation_predictions = modelTest.predict(X_val)\n",
    "validation_accuracy = accuracy_score(y_val, validation_predictions)\n",
    "print(validation_accuracy)"
   ]
  },
  {
   "cell_type": "code",
   "execution_count": 13,
   "metadata": {},
   "outputs": [],
   "source": [
    "test_predict = modelTest.predict(X_test)\n",
    "test_accuracy = accuracy_score(y_test, test_predict)\n"
   ]
  },
  {
   "cell_type": "markdown",
   "metadata": {},
   "source": [
    "### Plot how we know the best C"
   ]
  },
  {
   "cell_type": "code",
   "execution_count": 14,
   "metadata": {},
   "outputs": [
    {
     "data": {
      "image/png": "[encoded data removed]",
      "text/plain": [
       "<Figure size 1000x500 with 1 Axes>"
      ]
     },
     "metadata": {},
     "output_type": "display_data"
    }
   ],
   "source": [
    "mean_scores = np.array(LogRegressionCV.cv_results_['mean_test_score'])\n",
    "\n",
    "plt.figure(figsize=(10, 5))\n",
    "plt.plot(LogC['C'], mean_scores, marker='o')\n",
    "plt.title('Mean Cross-Validated Scores vs. C')\n",
    "plt.xlabel('C')\n",
    "plt.ylabel('Mean Accuracy Score')\n",
    "plt.xscale('log')  \n",
    "plt.grid()\n",
    "plt.show()\n",
    "\n"
   ]
  },
  {
   "cell_type": "markdown",
   "metadata": {},
   "source": [
    "### Results Resume"
   ]
  },
  {
   "cell_type": "code",
   "execution_count": 15,
   "metadata": {},
   "outputs": [
    {
     "data": {
      "text/html": [
       "<div>\n",
       "<style scoped>\n",
       "    .dataframe tbody tr th:only-of-type {\n",
       "        vertical-align: middle;\n",
       "    }\n",
       "\n",
       "    .dataframe tbody tr th {\n",
       "        vertical-align: top;\n",
       "    }\n",
       "\n",
       "    .dataframe thead th {\n",
       "        text-align: right;\n",
       "    }\n",
       "</style>\n",
       "<table border=\"1\" class=\"dataframe\">\n",
       "  <thead>\n",
       "    <tr style=\"text-align: right;\">\n",
       "      <th></th>\n",
       "      <th>Model</th>\n",
       "      <th>C</th>\n",
       "      <th>Lambda</th>\n",
       "      <th>Dataset</th>\n",
       "      <th>Accuracy</th>\n",
       "    </tr>\n",
       "  </thead>\n",
       "  <tbody>\n",
       "    <tr>\n",
       "      <th>0</th>\n",
       "      <td>Logistic Regression</td>\n",
       "      <td>15</td>\n",
       "      <td>0.066667</td>\n",
       "      <td>Training Set</td>\n",
       "      <td>0.958791</td>\n",
       "    </tr>\n",
       "    <tr>\n",
       "      <th>1</th>\n",
       "      <td>Logistic Regression</td>\n",
       "      <td>15</td>\n",
       "      <td>0.066667</td>\n",
       "      <td>Test Set</td>\n",
       "      <td>0.947368</td>\n",
       "    </tr>\n",
       "    <tr>\n",
       "      <th>2</th>\n",
       "      <td>Logistic Regression</td>\n",
       "      <td>15</td>\n",
       "      <td>0.066667</td>\n",
       "      <td>Validation Set</td>\n",
       "      <td>0.978022</td>\n",
       "    </tr>\n",
       "  </tbody>\n",
       "</table>\n",
       "</div>"
      ],
      "text/plain": [
       "                 Model   C    Lambda         Dataset  Accuracy\n",
       "0  Logistic Regression  15  0.066667    Training Set  0.958791\n",
       "1  Logistic Regression  15  0.066667        Test Set  0.947368\n",
       "2  Logistic Regression  15  0.066667  Validation Set  0.978022"
      ]
     },
     "metadata": {},
     "output_type": "display_data"
    }
   ],
   "source": [
    "results = {\n",
    "    'Model': [],\n",
    "    'C': [],\n",
    "    'Lambda' : [],\n",
    "    'Dataset': [],\n",
    "    'Accuracy': []\n",
    "}\n",
    "\n",
    "results['Model'].append('Logistic Regression')\n",
    "results['C'].append(bestC)\n",
    "results['Lambda'].append(bestLambda)\n",
    "results['Dataset'].append('Training Set')\n",
    "results['Accuracy'].append(train_accuracy)\n",
    "\n",
    "results['Model'].append('Logistic Regression')\n",
    "results['C'].append(bestC)\n",
    "results['Lambda'].append(bestLambda)\n",
    "results['Dataset'].append('Test Set')\n",
    "results['Accuracy'].append(test_accuracy)\n",
    "\n",
    "results['Model'].append('Logistic Regression')\n",
    "results['C'].append(bestC)\n",
    "results['Lambda'].append(bestLambda)\n",
    "results['Dataset'].append('Validation Set')\n",
    "results['Accuracy'].append(validation_accuracy)\n",
    "\n",
    "\n",
    "df = pd.DataFrame(results)\n",
    "\n",
    "display(df)"
   ]
  },
  {
   "cell_type": "markdown",
   "metadata": {},
   "source": [
    "### Confusion Matrix"
   ]
  },
  {
   "cell_type": "code",
   "execution_count": 16,
   "metadata": {},
   "outputs": [
    {
     "name": "stdout",
     "output_type": "stream",
     "text": [
      "Confusion Matrix for Validation Dataset:\n",
      "[[53  2]\n",
      " [ 0 36]]\n",
      "Confusion Matrix for Test Dataset:\n",
      "[[64  3]\n",
      " [ 3 44]]\n",
      "Confusion Matrix for Train Dataset:\n",
      "[[229   6]\n",
      " [  9 120]]\n"
     ]
    }
   ],
   "source": [
    "validation_confusion_matrix = confusion_matrix(y_val, validation_predictions)\n",
    "\n",
    "test_confusion_matrix = confusion_matrix(y_test, test_predict)\n",
    "\n",
    "train_confusion_matrix = confusion_matrix(y_train, train_predictions)\n",
    "\n",
    "print(\"Confusion Matrix for Validation Dataset:\")\n",
    "print(validation_confusion_matrix)\n",
    "\n",
    "print(\"Confusion Matrix for Test Dataset:\")\n",
    "print(test_confusion_matrix)\n",
    "\n",
    "print(\"Confusion Matrix for Train Dataset:\")\n",
    "print(train_confusion_matrix)"
   ]
  },
  {
   "cell_type": "code",
   "execution_count": 17,
   "metadata": {},
   "outputs": [
    {
     "data": {
      "text/html": [
       "<div>\n",
       "<style scoped>\n",
       "    .dataframe tbody tr th:only-of-type {\n",
       "        vertical-align: middle;\n",
       "    }\n",
       "\n",
       "    .dataframe tbody tr th {\n",
       "        vertical-align: top;\n",
       "    }\n",
       "\n",
       "    .dataframe thead th {\n",
       "        text-align: right;\n",
       "    }\n",
       "</style>\n",
       "<table border=\"1\" class=\"dataframe\">\n",
       "  <thead>\n",
       "    <tr style=\"text-align: right;\">\n",
       "      <th></th>\n",
       "      <th>Accuracy (%)</th>\n",
       "      <th>Sensitivity (%)</th>\n",
       "      <th>Specificity (%)</th>\n",
       "    </tr>\n",
       "    <tr>\n",
       "      <th>Dataset</th>\n",
       "      <th></th>\n",
       "      <th></th>\n",
       "      <th></th>\n",
       "    </tr>\n",
       "  </thead>\n",
       "  <tbody>\n",
       "    <tr>\n",
       "      <th>Training</th>\n",
       "      <td>95.879121</td>\n",
       "      <td>93.023256</td>\n",
       "      <td>97.446809</td>\n",
       "    </tr>\n",
       "    <tr>\n",
       "      <th>Test</th>\n",
       "      <td>97.802198</td>\n",
       "      <td>100.000000</td>\n",
       "      <td>96.363636</td>\n",
       "    </tr>\n",
       "    <tr>\n",
       "      <th>Validation</th>\n",
       "      <td>94.736842</td>\n",
       "      <td>93.617021</td>\n",
       "      <td>95.522388</td>\n",
       "    </tr>\n",
       "  </tbody>\n",
       "</table>\n",
       "</div>"
      ],
      "text/plain": [
       "            Accuracy (%)  Sensitivity (%)  Specificity (%)\n",
       "Dataset                                                   \n",
       "Training       95.879121        93.023256        97.446809\n",
       "Test           97.802198       100.000000        96.363636\n",
       "Validation     94.736842        93.617021        95.522388"
      ]
     },
     "metadata": {},
     "output_type": "display_data"
    }
   ],
   "source": [
    "validation_accuracy = (validation_confusion_matrix[0, 0] + validation_confusion_matrix[1, 1]) / np.sum(validation_confusion_matrix) * 100\n",
    "validation_specificity = (validation_confusion_matrix[0, 0] / (validation_confusion_matrix[0, 0] + validation_confusion_matrix[0, 1])) * 100\n",
    "validation_sensitivity = (validation_confusion_matrix[1, 1] / (validation_confusion_matrix[1, 0] + validation_confusion_matrix[1, 1])) * 100\n",
    "\n",
    "\n",
    "test_accuracy = (test_confusion_matrix[0, 0] + test_confusion_matrix[1, 1]) / np.sum(test_confusion_matrix) * 100\n",
    "test_specificity = (test_confusion_matrix[0, 0] / (test_confusion_matrix[0, 0] + test_confusion_matrix[0, 1])) * 100\n",
    "test_sensitivity = (test_confusion_matrix[1, 1] / (test_confusion_matrix[1, 0] + test_confusion_matrix[1, 1])) * 100\n",
    "\n",
    "train_accuracy = (train_confusion_matrix[0, 0] + train_confusion_matrix[1, 1]) / np.sum(train_confusion_matrix) * 100\n",
    "train_specificity = (train_confusion_matrix[0, 0] / (train_confusion_matrix[0, 0] + train_confusion_matrix[0, 1])) * 100\n",
    "train_sensitivity = (train_confusion_matrix[1, 1] / (train_confusion_matrix[1, 0] + train_confusion_matrix[1, 1])) * 100\n",
    "\n",
    "data = {\n",
    "    'Dataset': ['Training', 'Test', 'Validation'],\n",
    "    'Accuracy (%)': [train_accuracy, validation_accuracy, test_accuracy],\n",
    "    \n",
    "    'Sensitivity (%)': [train_sensitivity, validation_sensitivity, test_sensitivity],\n",
    "    'Specificity (%)': [train_specificity, validation_specificity, test_specificity]\n",
    "}\n",
    "\n",
    "res = pd.DataFrame(data)\n",
    "res.set_index('Dataset', inplace=True)\n",
    "display(res)"
   ]
  },
  {
   "cell_type": "markdown",
   "metadata": {},
   "source": [
    "### Here we have sum plots that helps understanding the model"
   ]
  },
  {
   "cell_type": "code",
   "execution_count": 18,
   "metadata": {},
   "outputs": [
    {
     "data": {
      "image/png": "[encoded data removed]",
      "text/plain": [
       "<Figure size 640x480 with 1 Axes>"
      ]
     },
     "metadata": {},
     "output_type": "display_data"
    }
   ],
   "source": [
    "for hyperparameter in LogC['C']:\n",
    "    model = LogisticRegression(C=hyperparameter, solver='liblinear', penalty='l1', max_iter=1000)\n",
    "    \n",
    "    model.fit(X_train, y_train)\n",
    "    \n",
    "    y_pred_proba = model.predict_proba(X_train)\n",
    "    \n",
    "    loss = log_loss(y_train, y_pred_proba)\n",
    "    \n",
    "    loss_values.append(loss)\n",
    "\n",
    "plt.plot(LogC['C'], loss_values, marker='o')\n",
    "plt.xlabel('Hyperparameter (e.g., Regularization Strength)')\n",
    "plt.ylabel('Log Loss (Cross-Entropy)')\n",
    "plt.title('Loss Function for Different Hyperparameter Values')\n",
    "plt.xscale('log')  # Use a logarithmic scale for the x-axis if needed\n",
    "plt.show()"
   ]
  },
  {
   "cell_type": "code",
   "execution_count": null,
   "metadata": {},
   "outputs": [],
   "source": []
  },
  {
   "cell_type": "code",
   "execution_count": null,
   "metadata": {},
   "outputs": [],
   "source": []
  }
 ],
 "metadata": {
  "kernelspec": {
   "display_name": "firstEnv",
   "language": "python",
   "name": "python3"
  },
  "language_info": {
   "codemirror_mode": {
    "name": "ipython",
    "version": 3
   },
   "file_extension": ".py",
   "mimetype": "text/x-python",
   "name": "python",
   "nbconvert_exporter": "python",
   "pygments_lexer": "ipython3",
   "version": "3.11.5"
  }
 },
 "nbformat": 4,
 "nbformat_minor": 2
}
