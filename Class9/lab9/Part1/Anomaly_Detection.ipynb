{
 "cells": [
  {
   "cell_type": "markdown",
   "metadata": {},
   "source": [
    "# Lab -  Anomaly Detection"
   ]
  },
  {
   "cell_type": "markdown",
   "metadata": {},
   "source": [
    "**Objectives**: implement Gaussian distribution model to detect anomalous behavior in server computers. \n",
    "\n",
    "While the servers were operating, 2D dataset regarding the through-put (mb/s) and latency (ms) of response of each server were collected. Vast majority of the examples were normal (non-anomalous) but also a few examples of servers acting anomalously.\n",
    "On that dataset you will ﬁt a Gaussian distribution and then ﬁnd values that have very low probability and hence can be considered anomalies. \n"
   ]
  },
  {
   "cell_type": "code",
   "execution_count": 30,
   "metadata": {},
   "outputs": [],
   "source": [
    "# Loading relevant libraries and the dataset\n",
    "import warnings\n",
    "warnings.filterwarnings('ignore',category=FutureWarning)\n",
    "warnings.filterwarnings('ignore',category=RuntimeWarning)\n",
    "\n",
    "import numpy as np\n",
    "import matplotlib.pyplot as plt\n",
    "from scipy.io import loadmat\n",
    "import matplotlib\n",
    "%matplotlib inline"
   ]
  },
  {
   "cell_type": "markdown",
   "metadata": {},
   "source": [
    "### Load Data \n",
    "Use loadmat to open file ex9data.mat and get train, test and validation data. "
   ]
  },
  {
   "cell_type": "code",
   "execution_count": 31,
   "metadata": {},
   "outputs": [
    {
     "data": {
      "text/plain": [
       "(300, 2)"
      ]
     },
     "execution_count": 31,
     "metadata": {},
     "output_type": "execute_result"
    }
   ],
   "source": [
    "\n",
    "Xtrain = loadmat(\"ex9data.mat\")[\"Xtrain\"]  # only normal examples\n",
    "Xtest = loadmat(\"ex9data.mat\")[\"Xtest\"] # normal and a few (6) abnormal examples\n",
    "Xval = loadmat(\"ex9data.mat\")[\"Xval\"] # normal and a few (9) abnormal examples\n",
    "yval = loadmat(\"ex9data.mat\")[\"yval\"]\n",
    "\n",
    "# What is the dimension of Xtrain ?\n",
    "Xtrain.shape"
   ]
  },
  {
   "cell_type": "markdown",
   "metadata": {},
   "source": [
    "### Plot data\n",
    "\n",
    "Plot the scater plots of the data subsets (Xtrain,Xval, Xtest) and get figure similar to Fig. 1. \n",
    "\n",
    "<img src=\"images/im1.png\" style=\"width:600px;height:300px;\">\n",
    "<caption><center> **Fig. 1** : **Latency versus Throughput** </center></caption>"
   ]
  },
  {
   "cell_type": "code",
   "execution_count": 32,
   "metadata": {},
   "outputs": [
    {
     "data": {
      "text/plain": [
       "(0.0, 30.0)"
      ]
     },
     "execution_count": 32,
     "metadata": {},
     "output_type": "execute_result"
    },
    {
     "data": {
      "image/png": "[encoded data removed]",
      "text/plain": [
       "<Figure size 1000x400 with 3 Axes>"
      ]
     },
     "metadata": {},
     "output_type": "display_data"
    }
   ],
   "source": [
    "plt.figure(figsize=(10,4))\n",
    "\n",
    "plt.subplot(1, 3, 1)\n",
    "plt.scatter(Xtrain[:,0],Xtrain[:,1], marker=\"+\")\n",
    "plt.xlim((0,30))\n",
    "plt.ylim((0,30))\n",
    "\n",
    "plt.subplot(1, 3, 2)\n",
    "plt.scatter(Xval[:,0],Xval[:,1], marker=\"+\")\n",
    "plt.xlim((0,30))\n",
    "plt.ylim((0,30))\n",
    "\n",
    "plt.subplot(1, 3, 3)\n",
    "plt.scatter(Xtest[:,0],Xtest[:,1], marker=\"+\")\n",
    "plt.xlim((0,30))\n",
    "plt.ylim((0,30))\n",
    "\n"
   ]
  },
  {
   "cell_type": "markdown",
   "metadata": {},
   "source": [
    "### Plot Data\n",
    "\n",
    "Plot the histograms of each feature and get figure simular to Fig.2. \n",
    "\n",
    "\n",
    "<img src=\"images/im2.png\" style=\"width:300px;height:250px;\">\n",
    "<caption><center> **Fig. 1** : **Data distribution** </center></caption>"
   ]
  },
  {
   "cell_type": "code",
   "execution_count": 33,
   "metadata": {},
   "outputs": [
    {
     "ename": "ValueError",
     "evalue": "`bins` must increase monotonically, when an array",
     "output_type": "error",
     "traceback": [
      "\u001b[0;31m---------------------------------------------------------------------------\u001b[0m",
      "\u001b[0;31mValueError\u001b[0m                                Traceback (most recent call last)",
      "\u001b[1;32m/home/casal/Desktop/FAA/Class9/lab9/Part1/Anomaly_Detection.ipynb Cell 9\u001b[0m line \u001b[0;36m2\n\u001b[1;32m      <a href='vscode-notebook-cell:/home/casal/Desktop/FAA/Class9/lab9/Part1/Anomaly_Detection.ipynb#X11sZmlsZQ%3D%3D?line=0'>1</a>\u001b[0m plt\u001b[39m.\u001b[39msubplot(\u001b[39m1\u001b[39m, \u001b[39m2\u001b[39m, \u001b[39m1\u001b[39m)\n\u001b[0;32m----> <a href='vscode-notebook-cell:/home/casal/Desktop/FAA/Class9/lab9/Part1/Anomaly_Detection.ipynb#X11sZmlsZQ%3D%3D?line=1'>2</a>\u001b[0m plt\u001b[39m.\u001b[39mhist(Xtrain[:,\u001b[39m0\u001b[39m], Xtrain[:,\u001b[39m1\u001b[39m])\n\u001b[1;32m      <a href='vscode-notebook-cell:/home/casal/Desktop/FAA/Class9/lab9/Part1/Anomaly_Detection.ipynb#X11sZmlsZQ%3D%3D?line=3'>4</a>\u001b[0m plt\u001b[39m.\u001b[39msubplot(\u001b[39m1\u001b[39m, \u001b[39m2\u001b[39m, \u001b[39m2\u001b[39m)\n",
      "File \u001b[0;32m~/anaconda3/envs/firstEnv/lib/python3.11/site-packages/matplotlib/pyplot.py:3224\u001b[0m, in \u001b[0;36mhist\u001b[0;34m(x, bins, range, density, weights, cumulative, bottom, histtype, align, orientation, rwidth, log, color, label, stacked, data, **kwargs)\u001b[0m\n\u001b[1;32m   3199\u001b[0m \u001b[39m@_copy_docstring_and_deprecators\u001b[39m(Axes\u001b[39m.\u001b[39mhist)\n\u001b[1;32m   3200\u001b[0m \u001b[39mdef\u001b[39;00m \u001b[39mhist\u001b[39m(\n\u001b[1;32m   3201\u001b[0m     x: ArrayLike \u001b[39m|\u001b[39m Sequence[ArrayLike],\n\u001b[0;32m   (...)\u001b[0m\n\u001b[1;32m   3222\u001b[0m     BarContainer \u001b[39m|\u001b[39m Polygon \u001b[39m|\u001b[39m \u001b[39mlist\u001b[39m[BarContainer \u001b[39m|\u001b[39m Polygon],\n\u001b[1;32m   3223\u001b[0m ]:\n\u001b[0;32m-> 3224\u001b[0m     \u001b[39mreturn\u001b[39;00m gca()\u001b[39m.\u001b[39mhist(\n\u001b[1;32m   3225\u001b[0m         x,\n\u001b[1;32m   3226\u001b[0m         bins\u001b[39m=\u001b[39mbins,\n\u001b[1;32m   3227\u001b[0m         \u001b[39mrange\u001b[39m\u001b[39m=\u001b[39m\u001b[39mrange\u001b[39m,\n\u001b[1;32m   3228\u001b[0m         density\u001b[39m=\u001b[39mdensity,\n\u001b[1;32m   3229\u001b[0m         weights\u001b[39m=\u001b[39mweights,\n\u001b[1;32m   3230\u001b[0m         cumulative\u001b[39m=\u001b[39mcumulative,\n\u001b[1;32m   3231\u001b[0m         bottom\u001b[39m=\u001b[39mbottom,\n\u001b[1;32m   3232\u001b[0m         histtype\u001b[39m=\u001b[39mhisttype,\n\u001b[1;32m   3233\u001b[0m         align\u001b[39m=\u001b[39malign,\n\u001b[1;32m   3234\u001b[0m         orientation\u001b[39m=\u001b[39morientation,\n\u001b[1;32m   3235\u001b[0m         rwidth\u001b[39m=\u001b[39mrwidth,\n\u001b[1;32m   3236\u001b[0m         log\u001b[39m=\u001b[39mlog,\n\u001b[1;32m   3237\u001b[0m         color\u001b[39m=\u001b[39mcolor,\n\u001b[1;32m   3238\u001b[0m         label\u001b[39m=\u001b[39mlabel,\n\u001b[1;32m   3239\u001b[0m         stacked\u001b[39m=\u001b[39mstacked,\n\u001b[1;32m   3240\u001b[0m         \u001b[39m*\u001b[39m\u001b[39m*\u001b[39m({\u001b[39m\"\u001b[39m\u001b[39mdata\u001b[39m\u001b[39m\"\u001b[39m: data} \u001b[39mif\u001b[39;00m data \u001b[39mis\u001b[39;00m \u001b[39mnot\u001b[39;00m \u001b[39mNone\u001b[39;00m \u001b[39melse\u001b[39;00m {}),\n\u001b[1;32m   3241\u001b[0m         \u001b[39m*\u001b[39m\u001b[39m*\u001b[39mkwargs,\n\u001b[1;32m   3242\u001b[0m     )\n",
      "File \u001b[0;32m~/anaconda3/envs/firstEnv/lib/python3.11/site-packages/matplotlib/__init__.py:1465\u001b[0m, in \u001b[0;36m_preprocess_data.<locals>.inner\u001b[0;34m(ax, data, *args, **kwargs)\u001b[0m\n\u001b[1;32m   1462\u001b[0m \u001b[39m@functools\u001b[39m\u001b[39m.\u001b[39mwraps(func)\n\u001b[1;32m   1463\u001b[0m \u001b[39mdef\u001b[39;00m \u001b[39minner\u001b[39m(ax, \u001b[39m*\u001b[39margs, data\u001b[39m=\u001b[39m\u001b[39mNone\u001b[39;00m, \u001b[39m*\u001b[39m\u001b[39m*\u001b[39mkwargs):\n\u001b[1;32m   1464\u001b[0m     \u001b[39mif\u001b[39;00m data \u001b[39mis\u001b[39;00m \u001b[39mNone\u001b[39;00m:\n\u001b[0;32m-> 1465\u001b[0m         \u001b[39mreturn\u001b[39;00m func(ax, \u001b[39m*\u001b[39m\u001b[39mmap\u001b[39m(sanitize_sequence, args), \u001b[39m*\u001b[39m\u001b[39m*\u001b[39mkwargs)\n\u001b[1;32m   1467\u001b[0m     bound \u001b[39m=\u001b[39m new_sig\u001b[39m.\u001b[39mbind(ax, \u001b[39m*\u001b[39margs, \u001b[39m*\u001b[39m\u001b[39m*\u001b[39mkwargs)\n\u001b[1;32m   1468\u001b[0m     auto_label \u001b[39m=\u001b[39m (bound\u001b[39m.\u001b[39marguments\u001b[39m.\u001b[39mget(label_namer)\n\u001b[1;32m   1469\u001b[0m                   \u001b[39mor\u001b[39;00m bound\u001b[39m.\u001b[39mkwargs\u001b[39m.\u001b[39mget(label_namer))\n",
      "File \u001b[0;32m~/anaconda3/envs/firstEnv/lib/python3.11/site-packages/matplotlib/axes/_axes.py:6854\u001b[0m, in \u001b[0;36mAxes.hist\u001b[0;34m(self, x, bins, range, density, weights, cumulative, bottom, histtype, align, orientation, rwidth, log, color, label, stacked, **kwargs)\u001b[0m\n\u001b[1;32m   6850\u001b[0m \u001b[39m# Loop through datasets\u001b[39;00m\n\u001b[1;32m   6851\u001b[0m \u001b[39mfor\u001b[39;00m i \u001b[39min\u001b[39;00m \u001b[39mrange\u001b[39m(nx):\n\u001b[1;32m   6852\u001b[0m     \u001b[39m# this will automatically overwrite bins,\u001b[39;00m\n\u001b[1;32m   6853\u001b[0m     \u001b[39m# so that each histogram uses the same bins\u001b[39;00m\n\u001b[0;32m-> 6854\u001b[0m     m, bins \u001b[39m=\u001b[39m np\u001b[39m.\u001b[39mhistogram(x[i], bins, weights\u001b[39m=\u001b[39mw[i], \u001b[39m*\u001b[39m\u001b[39m*\u001b[39mhist_kwargs)\n\u001b[1;32m   6855\u001b[0m     tops\u001b[39m.\u001b[39mappend(m)\n\u001b[1;32m   6856\u001b[0m tops \u001b[39m=\u001b[39m np\u001b[39m.\u001b[39marray(tops, \u001b[39mfloat\u001b[39m)  \u001b[39m# causes problems later if it's an int\u001b[39;00m\n",
      "File \u001b[0;32m~/anaconda3/envs/firstEnv/lib/python3.11/site-packages/numpy/lib/histograms.py:780\u001b[0m, in \u001b[0;36mhistogram\u001b[0;34m(a, bins, range, density, weights)\u001b[0m\n\u001b[1;32m    680\u001b[0m \u001b[39m\u001b[39m\u001b[39mr\u001b[39m\u001b[39m\"\"\"\u001b[39;00m\n\u001b[1;32m    681\u001b[0m \u001b[39mCompute the histogram of a dataset.\u001b[39;00m\n\u001b[1;32m    682\u001b[0m \n\u001b[0;32m   (...)\u001b[0m\n\u001b[1;32m    776\u001b[0m \n\u001b[1;32m    777\u001b[0m \u001b[39m\"\"\"\u001b[39;00m\n\u001b[1;32m    778\u001b[0m a, weights \u001b[39m=\u001b[39m _ravel_and_check_weights(a, weights)\n\u001b[0;32m--> 780\u001b[0m bin_edges, uniform_bins \u001b[39m=\u001b[39m _get_bin_edges(a, bins, \u001b[39mrange\u001b[39m, weights)\n\u001b[1;32m    782\u001b[0m \u001b[39m# Histogram is an integer or a float array depending on the weights.\u001b[39;00m\n\u001b[1;32m    783\u001b[0m \u001b[39mif\u001b[39;00m weights \u001b[39mis\u001b[39;00m \u001b[39mNone\u001b[39;00m:\n",
      "File \u001b[0;32m~/anaconda3/envs/firstEnv/lib/python3.11/site-packages/numpy/lib/histograms.py:431\u001b[0m, in \u001b[0;36m_get_bin_edges\u001b[0;34m(a, bins, range, weights)\u001b[0m\n\u001b[1;32m    429\u001b[0m     bin_edges \u001b[39m=\u001b[39m np\u001b[39m.\u001b[39masarray(bins)\n\u001b[1;32m    430\u001b[0m     \u001b[39mif\u001b[39;00m np\u001b[39m.\u001b[39many(bin_edges[:\u001b[39m-\u001b[39m\u001b[39m1\u001b[39m] \u001b[39m>\u001b[39m bin_edges[\u001b[39m1\u001b[39m:]):\n\u001b[0;32m--> 431\u001b[0m         \u001b[39mraise\u001b[39;00m \u001b[39mValueError\u001b[39;00m(\n\u001b[1;32m    432\u001b[0m             \u001b[39m'\u001b[39m\u001b[39m`bins` must increase monotonically, when an array\u001b[39m\u001b[39m'\u001b[39m)\n\u001b[1;32m    434\u001b[0m \u001b[39melse\u001b[39;00m:\n\u001b[1;32m    435\u001b[0m     \u001b[39mraise\u001b[39;00m \u001b[39mValueError\u001b[39;00m(\u001b[39m'\u001b[39m\u001b[39m`bins` must be 1d, when an array\u001b[39m\u001b[39m'\u001b[39m)\n",
      "\u001b[0;31mValueError\u001b[0m: `bins` must increase monotonically, when an array"
     ]
    },
    {
     "data": {
      "image/png": "[encoded data removed]",
      "text/plain": [
       "<Figure size 640x480 with 1 Axes>"
      ]
     },
     "metadata": {},
     "output_type": "display_data"
    }
   ],
   "source": [
    "plt.subplot(1, 2, 1)\n",
    "plt.hist(Xtrain[:,0], Xtrain[:,1])\n",
    "\n",
    "plt.subplot(1, 2, 2)"
   ]
  },
  {
   "cell_type": "markdown",
   "metadata": {},
   "source": [
    "### Gaussian Distribution\n",
    "\n",
    "To perform anomaly detection, you will first need to fit a model only to the normal data.\n",
    "\n",
    "Given a training set {x(1), …, x(m)} (where x(i) ∈ R^n, here n = 2), you want to estimate the Gaussian distribution for each of the features. For each feature (i = 1 . . . n), you need to find parameters mean and variance(mu, sigma²). For doing that let’s write down the function that calculates the mean and variance of matrix Xtrain.\n",
    "\n",
    "The Gaussian distribution is given by:  $p(x;\\mu,\\sigma^2) = \\frac{1}{\\sqrt{2\\pi\\sigma^2}}e^{\\frac{(x-\\mu)^2}{2\\sigma^2}}$\n",
    "\n",
    "mean:  $\\mu_i = \\frac{1}{m}\\sum^m_{j=1}x^{(j)}$\n",
    "\n",
    "variance:  $\\sigma^2_i = \\frac{1}{m}\\sum^m_{j=1}(x^{(j)} - \\mu_j)^2$"
   ]
  },
  {
   "cell_type": "code",
   "execution_count": 34,
   "metadata": {},
   "outputs": [],
   "source": [
    "def estimateGaussian(X):\n",
    "    \"\"\"\n",
    "     This function estimates the parameters of a Gaussian distribution using the data in X\n",
    "    \"\"\"\n",
    "    m=X.shape[0]  #number of examples in X\n",
    "    \n",
    "    #compute mean \n",
    "    mu = np.mean(X,axis=0)\n",
    "     \n",
    "    # compute variance =sigma^2\n",
    "    sigma2 = 1/m * np.sum((X - mu)**2,axis=0)\n",
    "    \n",
    "    return mu,sigma2"
   ]
  },
  {
   "cell_type": "code",
   "execution_count": 35,
   "metadata": {},
   "outputs": [
    {
     "name": "stdout",
     "output_type": "stream",
     "text": [
      "[14.06411334 15.02441479]\n",
      "[0.93434723 0.8506542 ]\n"
     ]
    }
   ],
   "source": [
    "# Estimate parameters (mean and variance) for the Gaussian model of the normal data (Xtrain)\n",
    "# ANSWER:    mu =  [14.06411334 15.02441479] ; sigma2 = [0.93434723 0.8506542 ]\n",
    "\n",
    "mu, sigma2 = estimateGaussian(Xtrain)\n",
    "\n",
    "print(mu)\n",
    "print(sigma2)"
   ]
  },
  {
   "cell_type": "markdown",
   "metadata": {},
   "source": [
    "### Multivariate Gaussian Distribution\n",
    "\n",
    "Inside *multivariateGaussian*, $\\sigma^2$ vector is converted into the covariance matrix  $\\Sigma$.  Assuming the features are independent, each element of vector $\\sigma^2$ will be on the diagonal of matrix $\\Sigma$ and the rest of the elements are zero. \n",
    "Then the formula for the multivariate distribution to get the probability vector is applied.\n",
    "\n",
    "$p(x;\\mu,\\Sigma) = \\frac{1}{(2\\pi)^{n/2}|\\Sigma|^{1/2}} exp(-\\frac{1}{2}(x-\\mu)^T\\Sigma^{-1}(x-\\mu))$"
   ]
  },
  {
   "cell_type": "code",
   "execution_count": 37,
   "metadata": {},
   "outputs": [],
   "source": [
    "#Complete the function\n",
    "def multivariateGaussian(X, mu, sigma2):\n",
    "    \"\"\"\n",
    "    Computes the probability density function of the multivariate Gaussian distribution.\n",
    "    \"\"\"\n",
    "    n= X.shape[1]#number of features \n",
    "    sigma_diag=np.diag(sigma2)  #Diagonal matrix (features are independent !!!!)\n",
    "    X = X - mu.T\n",
    "    p = 1/((2*np.pi)**(n/2)*(np.linalg.det(sigma_diag)**0.5))* np.exp(-0.5* np.sum(X @ np.linalg.pinv(sigma_diag) * X,axis=1))\n",
    "    return p"
   ]
  },
  {
   "cell_type": "markdown",
   "metadata": {},
   "source": [
    "### Select the threshold $\\epsilon$  that will flag an example as anomaly\n",
    "\n",
    "F1 score is used to determine the best parameters i.e best epsilon and best F1 instead of accuracy as the dataset is highly unbalanced. F1 score takes into consideration precision and recall.\n",
    "\n",
    "Precision = true positive/(true positive + false positive)\n",
    "\n",
    "Recall = true positive /(true positive + false negative)\n",
    "\n",
    "F1=2(Recall * Precision) / (Recall + Precision)\n",
    "\n",
    "Best parameters are the ones in which the F1 score value is maximum.\n",
    "\n",
    "Predict anomaly if pval<epsilon that gives a vector of binary values in the variable predictions.\n",
    "\n",
    "Note: We need a try-except block because there can be cases where we divide by zero to calculate precision and recall."
   ]
  },
  {
   "cell_type": "code",
   "execution_count": 38,
   "metadata": {},
   "outputs": [],
   "source": [
    "#Complete the function\n",
    "def selectThreshold(yval, pval):\n",
    "    \"\"\"\n",
    "    Find the best threshold (epsilon) to use for selecting outliers\n",
    "    \"\"\"\n",
    "    best_epi = 0\n",
    "    best_F1 = 0\n",
    "    \n",
    "    #range of threshold values to decide the best one. \n",
    "    stepsize = (max(pval) -min(pval))/1000\n",
    "    epi_range = np.arange(pval.min(),pval.max(),stepsize)\n",
    "    for epi in epi_range:\n",
    "        predictions = (pval<epi)[:,np.newaxis]\n",
    "        \n",
    "        #compute true positive (TP)\n",
    "        tp = np.sum((predictions==1) & (yval==1))\n",
    "        \n",
    "        #compute false positive (FP)\n",
    "        fp = np.sum((predictions==1) & (yval==0))\n",
    "        \n",
    "        #compute false negative \n",
    "        fn = np.sum((predictions==0) & (yval==1))\n",
    "        \n",
    "        try:\n",
    "        # compute precision, recall and F1\n",
    "            prec = tp/(tp+fp)\n",
    "            \n",
    "            #compute recall and F1\n",
    "            rec = tp/(tp+fn)\n",
    "            #compute  F1\n",
    "            F1 = 2*rec*prec/(rec+prec)\n",
    "        \n",
    "            if F1 > best_F1:\n",
    "                best_F1 =F1\n",
    "                best_epi = epi\n",
    "            \n",
    "        except ZeroDivisionError:\n",
    "                print('Warning dividing by zero!!')  \n",
    "        \n",
    "    return best_epi, best_F1"
   ]
  },
  {
   "cell_type": "code",
   "execution_count": 40,
   "metadata": {},
   "outputs": [
    {
     "name": "stdout",
     "output_type": "stream",
     "text": [
      "0.00017841159895769934\n",
      "0.823529411764706\n"
     ]
    }
   ],
   "source": [
    "#Apply multivariateGaussian to compute the probability of the examples in Xval. \n",
    "pval = multivariateGaussian(Xval , mu, sigma2)\n",
    "\n",
    "#Apply selectThreshold to compute the best epsilon and best F1 with the validation data\n",
    "epsilon, F1 = selectThreshold(yval,pval)\n",
    "\n",
    "# print the best epsilon and the best F1 with validation data  \n",
    "\n",
    "\n",
    "print(epsilon)\n",
    "print(F1)\n",
    "\n",
    "#ANSWER: 0.00018\n",
    "#ANSWER: 0.8235\n"
   ]
  },
  {
   "cell_type": "markdown",
   "metadata": {},
   "source": [
    "We need to return the indices of the outliers to identify the faulty servers. This gives us a vector with binary entries where 1 means anomaly and 0 means normal."
   ]
  },
  {
   "cell_type": "code",
   "execution_count": 42,
   "metadata": {},
   "outputs": [],
   "source": [
    "def findIndices(binVec):\n",
    "    l = []\n",
    "    for i in range(len(binVec)):\n",
    "        if binVec[i] == 1:\n",
    "            l.append(i)\n",
    "    return l"
   ]
  },
  {
   "cell_type": "code",
   "execution_count": 43,
   "metadata": {},
   "outputs": [
    {
     "name": "stdout",
     "output_type": "stream",
     "text": [
      "\n",
      "\n",
      "Number of outliers (Xtest): 6\n",
      "\n",
      " [300, 301, 303, 304, 305, 306]\n"
     ]
    }
   ],
   "source": [
    "#Apply multivariateGaussian to compute the probability of the examples in Xtest \n",
    "p = multivariateGaussian(Xtest, mu, sigma2)\n",
    "\n",
    "# detect the abnormal examples (outliers) \n",
    "outl = (p < epsilon)\n",
    "listOfOutliers=findIndices(outl)\n",
    "count_outliers = len(listOfOutliers)\n",
    "print('\\n\\nNumber of outliers (Xtest):', count_outliers)  #ANSWER: 6 \n",
    "print('\\n',listOfOutliers)\n"
   ]
  },
  {
   "cell_type": "markdown",
   "metadata": {},
   "source": [
    "### Visualize the anomalies"
   ]
  },
  {
   "cell_type": "code",
   "execution_count": 44,
   "metadata": {},
   "outputs": [
    {
     "data": {
      "image/png": "[encoded data removed]",
      "text/plain": [
       "<Figure size 1000x400 with 1 Axes>"
      ]
     },
     "metadata": {},
     "output_type": "display_data"
    }
   ],
   "source": [
    "plt.figure(figsize=(10,4))\n",
    "plt.subplot(1, 2, 1)\n",
    "plt.scatter(Xtest[:, 0], Xtest[:, 1], marker = \"x\")\n",
    "plt.xlabel('Latency(ms)')\n",
    "plt.ylabel('Throughput(mb/s)')\n",
    "plt.scatter(Xtest[listOfOutliers,0], Xtest[listOfOutliers, 1], facecolors = 'none', edgecolors = 'r')\n",
    "plt.xlim(-1,30)\n",
    "plt.ylim(-1,30)\n",
    "plt.show()"
   ]
  },
  {
   "cell_type": "code",
   "execution_count": null,
   "metadata": {},
   "outputs": [],
   "source": []
  }
 ],
 "metadata": {
  "kernelspec": {
   "display_name": "Python 3 (ipykernel)",
   "language": "python",
   "name": "python3"
  },
  "language_info": {
   "codemirror_mode": {
    "name": "ipython",
    "version": 3
   },
   "file_extension": ".py",
   "mimetype": "text/x-python",
   "name": "python",
   "nbconvert_exporter": "python",
   "pygments_lexer": "ipython3",
   "version": "3.11.5"
  }
 },
 "nbformat": 4,
 "nbformat_minor": 2
}
